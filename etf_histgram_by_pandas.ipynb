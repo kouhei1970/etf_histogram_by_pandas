{
 "cells": [
  {
   "cell_type": "code",
   "execution_count": 43,
   "metadata": {},
   "outputs": [],
   "source": [
    "import numpy as np\n",
    "import pandas as pd\n",
    "import matplotlib.pyplot as plt"
   ]
  },
  {
   "cell_type": "code",
   "execution_count": 55,
   "metadata": {},
   "outputs": [],
   "source": [
    "#pandasでCSVデータを読み込む\n",
    "df= pd.read_csv('etf1547.csv', header=0)\n",
    "\n",
    "#価格の列だけ取り出す\n",
    "price=df['ETF Net Asset Value (per Share)']\n",
    "#価格の対数をとる\n",
    "log_price=np.log(df['ETF Net Asset Value (per Share)'])\n",
    "#収益率と対数収益率を計算する\n",
    "profitability=price.pct_change()\n",
    "log_profitability=log_price.diff()"
   ]
  },
  {
   "cell_type": "code",
   "execution_count": 68,
   "metadata": {},
   "outputs": [
    {
     "data": {
      "image/png": "[encoded data removed]",
      "text/plain": [
       "<Figure size 576x432 with 2 Axes>"
      ]
     },
     "metadata": {
      "needs_background": "light"
     },
     "output_type": "display_data"
    },
    {
     "name": "stdout",
     "output_type": "stream",
     "text": [
      "収益率の統計\n",
      "count    2549.000000\n",
      "mean        0.000691\n",
      "std         0.013613\n",
      "min        -0.121209\n",
      "25%        -0.005409\n",
      "50%         0.001170\n",
      "75%         0.007815\n",
      "max         0.111094\n",
      "Name: ETF Net Asset Value (per Share), dtype: float64\n",
      "対数収益率の統計\n",
      "count    2549.000000\n",
      "mean        0.000598\n",
      "std         0.013651\n",
      "min        -0.129208\n",
      "25%        -0.005424\n",
      "50%         0.001169\n",
      "75%         0.007785\n",
      "max         0.105345\n",
      "Name: ETF Net Asset Value (per Share), dtype: float64\n"
     ]
    }
   ],
   "source": [
    "#ヒストグラムを描画\n",
    "plt.figure(figsize=(8,6))\n",
    "plt.subplot(211)\n",
    "plt.title('Profitability')\n",
    "profitability.hist(bins=100)\n",
    "plt.subplot(212)\n",
    "plt.title('Logarithmic profitability')\n",
    "log_profitability.hist(bins=100)\n",
    "plt.show()\n",
    "\n",
    "#対数収益率の統計\n",
    "print('収益率の統計')\n",
    "print(profitability.describe())\n",
    "print('対数収益率の統計')\n",
    "print(log_profitability.describe())"
   ]
  },
  {
   "cell_type": "code",
   "execution_count": 58,
   "metadata": {},
   "outputs": [
    {
     "data": {
      "text/plain": [
       "0       1000.00\n",
       "1        999.99\n",
       "2        999.28\n",
       "3       1007.47\n",
       "4       1007.97\n",
       "         ...   \n",
       "2545    4627.79\n",
       "2546    4616.91\n",
       "2547    4647.39\n",
       "2548    4602.65\n",
       "2549    4588.06\n",
       "Name: ETF Net Asset Value (per Share), Length: 2550, dtype: float64"
      ]
     },
     "execution_count": 58,
     "metadata": {},
     "output_type": "execute_result"
    }
   ],
   "source": [
    "price"
   ]
  },
  {
   "cell_type": "code",
   "execution_count": null,
   "metadata": {},
   "outputs": [],
   "source": []
  }
 ],
 "metadata": {
  "kernelspec": {
   "display_name": "Python 3",
   "language": "python",
   "name": "python3"
  },
  "language_info": {
   "codemirror_mode": {
    "name": "ipython",
    "version": 3
   },
   "file_extension": ".py",
   "mimetype": "text/x-python",
   "name": "python",
   "nbconvert_exporter": "python",
   "pygments_lexer": "ipython3",
   "version": "3.7.2"
  }
 },
 "nbformat": 4,
 "nbformat_minor": 4
}
